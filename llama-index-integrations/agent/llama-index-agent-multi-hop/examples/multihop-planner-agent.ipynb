{
 "cells": [
  {
   "cell_type": "markdown",
   "id": "095493de-ac9b-4b3c-9275-654ed2356af9",
   "metadata": {},
   "source": [
    "# MultiHop Planner Agent"
   ]
  },
  {
   "cell_type": "markdown",
   "id": "96d54d84-02fe-4fc7-9738-284eb3a68705",
   "metadata": {},
   "source": [
    "### Load the Data and create Tools"
   ]
  },
  {
   "cell_type": "code",
   "execution_count": null,
   "id": "ef39bd87-2ac0-4e35-a2fa-3b13e765d27d",
   "metadata": {},
   "outputs": [],
   "source": [
    "# !mkdir -p 'data/10k/'\n",
    "# !wget 'https://raw.githubusercontent.com/run-llama/llama_index/main/docs/docs/examples/data/10k/uber_2021.pdf' -O 'data/10k/uber_2021.pdf'\n",
    "# !wget 'https://raw.githubusercontent.com/run-llama/llama_index/main/docs/docs/examples/data/10k/lyft_2021.pdf' -O 'data/10k/lyft_2021.pdf'"
   ]
  },
  {
   "cell_type": "code",
   "execution_count": null,
   "id": "a60167af-5243-4a75-bd29-06ec303b0895",
   "metadata": {},
   "outputs": [],
   "source": [
    "from llama_index.core import Settings\n",
    "from llama_index.llms.openai import OpenAI\n",
    "from llama_index.embeddings.openai import OpenAIEmbedding\n",
    "\n",
    "Settings.llm = OpenAI(\n",
    "    model=\"gpt-4o\",\n",
    "    temperature=0.1,\n",
    ")\n",
    "Settings.embed_model = OpenAIEmbedding(model_name=\"text-embedding-3-small\")"
   ]
  },
  {
   "cell_type": "code",
   "execution_count": null,
   "id": "6a148ec8-3b6b-44c4-a5bf-0024197b0df8",
   "metadata": {},
   "outputs": [],
   "source": [
    "from llama_index.core import VectorStoreIndex, SimpleDirectoryReader, Document\n",
    "from llama_index.core.tools import QueryEngineTool\n",
    "\n",
    "index = VectorStoreIndex.from_documents([Document.example()])\n",
    "tool = QueryEngineTool.from_defaults(\n",
    "    index.as_query_engine(),\n",
    "    name=\"dummy\",\n",
    "    description=\"dummy\",\n",
    ")\n",
    "# # Load documents, create tools\n",
    "# lyft_documents = SimpleDirectoryReader(\n",
    "#     input_files=[\"./data/10k/lyft_2021.pdf\"]\n",
    "# ).load_data()\n",
    "# uber_documents = SimpleDirectoryReader(\n",
    "#     input_files=[\"./data/10k/uber_2021.pdf\"]\n",
    "# ).load_data()\n",
    "\n",
    "# lyft_index = VectorStoreIndex.from_documents(lyft_documents)\n",
    "# uber_index = VectorStoreIndex.from_documents(uber_documents)\n",
    "\n",
    "# lyft_tool = QueryEngineTool.from_defaults(\n",
    "#     lyft_index.as_query_engine(),\n",
    "#     name=\"lyft_2021\",\n",
    "#     description=\"Useful for asking questions about Lyft's 2021 10-K filling.\",\n",
    "# )\n",
    "\n",
    "# uber_tool = QueryEngineTool.from_defaults(\n",
    "#     uber_index.as_query_engine(),\n",
    "#     name=\"uber_2021\",\n",
    "#     description=\"Useful for asking questions about Uber's 2021 10-K filling.\",\n",
    "# )"
   ]
  },
  {
   "cell_type": "markdown",
   "id": "36c1c1af-f579-44b5-ae08-c88c9b159776",
   "metadata": {},
   "source": [
    "### Create Agent"
   ]
  },
  {
   "cell_type": "code",
   "execution_count": null,
   "id": "02dcdec1-391b-4e85-aa9d-5cc1a355ab1c",
   "metadata": {},
   "outputs": [],
   "source": [
    "from llama_index.core.agent import FunctionCallingAgentWorker\n",
    "from llama_index.agent.multi_hop.planner import MultiHopPlannerAgent\n",
    "\n",
    "# create the function calling worker for reasoning\n",
    "worker = FunctionCallingAgentWorker.from_tools([tool], verbose=True)\n",
    "\n",
    "# wrap the worker in the top-level planner\n",
    "agent = MultiHopPlannerAgent(worker, tools=[tool], verbose=True)"
   ]
  },
  {
   "cell_type": "code",
   "execution_count": null,
   "id": "ce423bfc-9723-42e5-8dad-bd748c5aaad4",
   "metadata": {},
   "outputs": [
    {
     "ename": "ValidationError",
     "evalue": "1 validation error for SubTask\ndependencies\n  value is not a valid list (type=type_error.list)",
     "output_type": "error",
     "traceback": [
      "\u001b[0;31m---------------------------------------------------------------------------\u001b[0m",
      "\u001b[0;31mValidationError\u001b[0m                           Traceback (most recent call last)",
      "Cell \u001b[0;32mIn[4], line 1\u001b[0m\n\u001b[0;32m----> 1\u001b[0m \u001b[43magent\u001b[49m\u001b[38;5;241;43m.\u001b[39;49m\u001b[43mcreate_plan\u001b[49m\u001b[43m(\u001b[49m\u001b[38;5;28;43minput\u001b[39;49m\u001b[38;5;241;43m=\u001b[39;49m\u001b[38;5;124;43m\"\u001b[39;49m\u001b[38;5;124;43mWho performed more genres of music, Matt Barlow or KatieJane Garside?\u001b[39;49m\u001b[38;5;124;43m\"\u001b[39;49m\u001b[43m)\u001b[49m\n",
      "File \u001b[0;32m~/Projects/llama_index/llama-index-integrations/agent/llama-index-agent-multi-hop/llama_index/agent/multi_hop/planner.py:184\u001b[0m, in \u001b[0;36mMultiHopPlannerAgent.create_plan\u001b[0;34m(self, input, **kwargs)\u001b[0m\n\u001b[1;32m    179\u001b[0m data_extraction_sub_tasks \u001b[38;5;241m=\u001b[39m \u001b[38;5;28mself\u001b[39m\u001b[38;5;241m.\u001b[39m_create_sub_tasks_from_structured_context_cls(\n\u001b[1;32m    180\u001b[0m     structured_context_cls\n\u001b[1;32m    181\u001b[0m )\n\u001b[1;32m    183\u001b[0m \u001b[38;5;66;03m# merge data extraction results sub-task\u001b[39;00m\n\u001b[0;32m--> 184\u001b[0m merge_sub_task \u001b[38;5;241m=\u001b[39m \u001b[43mSubTask\u001b[49m\u001b[43m(\u001b[49m\n\u001b[1;32m    185\u001b[0m \u001b[43m    \u001b[49m\u001b[43mname\u001b[49m\u001b[38;5;241;43m=\u001b[39;49m\u001b[38;5;124;43m\"\u001b[39;49m\u001b[38;5;124;43mmerge_data_extractions\u001b[39;49m\u001b[38;5;124;43m\"\u001b[39;49m\u001b[43m,\u001b[49m\n\u001b[1;32m    186\u001b[0m \u001b[43m    \u001b[49m\u001b[38;5;28;43minput\u001b[39;49m\u001b[38;5;241;43m=\u001b[39;49m\u001b[38;5;124;43m\"\u001b[39;49m\u001b[38;5;124;43mUse the provided data to fill in the StructuredContext data class.\u001b[39;49m\u001b[38;5;124;43m\"\u001b[39;49m\u001b[43m,\u001b[49m\n\u001b[1;32m    187\u001b[0m \u001b[43m    \u001b[49m\u001b[43mexpected_output\u001b[49m\u001b[38;5;241;43m=\u001b[39;49m\u001b[38;5;124;43m\"\u001b[39;49m\u001b[38;5;124;43mA StructuredContext object.\u001b[39;49m\u001b[38;5;124;43m\"\u001b[39;49m\u001b[43m,\u001b[49m\n\u001b[1;32m    188\u001b[0m \u001b[43m    \u001b[49m\u001b[43mdependencies\u001b[49m\u001b[38;5;241;43m=\u001b[39;49m\u001b[43mstructured_context_cls\u001b[49m\u001b[38;5;241;43m.\u001b[39;49m\u001b[43mschema\u001b[49m\u001b[43m(\u001b[49m\u001b[43m)\u001b[49m\u001b[43m[\u001b[49m\u001b[38;5;124;43m\"\u001b[39;49m\u001b[38;5;124;43mproperties\u001b[39;49m\u001b[38;5;124;43m\"\u001b[39;49m\u001b[43m]\u001b[49m\u001b[38;5;241;43m.\u001b[39;49m\u001b[43mkeys\u001b[49m\u001b[43m(\u001b[49m\u001b[43m)\u001b[49m\u001b[43m,\u001b[49m\n\u001b[1;32m    189\u001b[0m \u001b[43m\u001b[49m\u001b[43m)\u001b[49m\n\u001b[1;32m    191\u001b[0m \u001b[38;5;66;03m# final structured context-augmentation query response task\u001b[39;00m\n\u001b[1;32m    192\u001b[0m query_response_task \u001b[38;5;241m=\u001b[39m SubTask(\n\u001b[1;32m    193\u001b[0m     name\u001b[38;5;241m=\u001b[39m\u001b[38;5;124m\"\u001b[39m\u001b[38;5;124mquery_response_tasks\u001b[39m\u001b[38;5;124m\"\u001b[39m,\n\u001b[1;32m    194\u001b[0m     \u001b[38;5;28minput\u001b[39m\u001b[38;5;241m=\u001b[39m\u001b[38;5;28minput\u001b[39m,\n\u001b[0;32m   (...)\u001b[0m\n\u001b[1;32m    199\u001b[0m     ],\n\u001b[1;32m    200\u001b[0m )\n",
      "File \u001b[0;32m~/Library/Caches/pypoetry/virtualenvs/llama-index-agent-multi-hop-InS_d_NI-py3.10/lib/python3.10/site-packages/pydantic/v1/main.py:341\u001b[0m, in \u001b[0;36mBaseModel.__init__\u001b[0;34m(__pydantic_self__, **data)\u001b[0m\n\u001b[1;32m    339\u001b[0m values, fields_set, validation_error \u001b[38;5;241m=\u001b[39m validate_model(__pydantic_self__\u001b[38;5;241m.\u001b[39m\u001b[38;5;18m__class__\u001b[39m, data)\n\u001b[1;32m    340\u001b[0m \u001b[38;5;28;01mif\u001b[39;00m validation_error:\n\u001b[0;32m--> 341\u001b[0m     \u001b[38;5;28;01mraise\u001b[39;00m validation_error\n\u001b[1;32m    342\u001b[0m \u001b[38;5;28;01mtry\u001b[39;00m:\n\u001b[1;32m    343\u001b[0m     object_setattr(__pydantic_self__, \u001b[38;5;124m'\u001b[39m\u001b[38;5;124m__dict__\u001b[39m\u001b[38;5;124m'\u001b[39m, values)\n",
      "\u001b[0;31mValidationError\u001b[0m: 1 validation error for SubTask\ndependencies\n  value is not a valid list (type=type_error.list)"
     ]
    }
   ],
   "source": [
    "agent.create_plan(\n",
    "    input=\"Who performed more genres of music, Matt Barlow or KatieJane Garside?\"\n",
    ")"
   ]
  }
 ],
 "metadata": {
  "kernelspec": {
   "display_name": "llama-index-agent-multi-hop",
   "language": "python",
   "name": "llama-index-agent-multi-hop"
  },
  "language_info": {
   "codemirror_mode": {
    "name": "ipython",
    "version": 3
   },
   "file_extension": ".py",
   "mimetype": "text/x-python",
   "name": "python",
   "nbconvert_exporter": "python",
   "pygments_lexer": "ipython3"
  }
 },
 "nbformat": 4,
 "nbformat_minor": 5
}
